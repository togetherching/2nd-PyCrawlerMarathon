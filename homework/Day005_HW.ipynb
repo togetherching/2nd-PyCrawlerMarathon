{
 "cells": [
  {
   "cell_type": "markdown",
   "metadata": {},
   "source": [
    "# API 資料串接 - 以 Dcard API 實作範例\n",
    "\n",
    "* 了解 Dcard API 使用方式與回傳內容\n",
    "* 撰寫程式存取 API 且解析 JSON 格式資料\n"
   ]
  },
  {
   "cell_type": "markdown",
   "metadata": {},
   "source": [
    "## 作業目標\n",
    "\n",
    "* 請利用 API: https://www.dcard.tw/_api/forums/pet/posts?popular=true 回答下列問題：\n",
    "\n",
    "1. 這個 API 一次會回傳幾筆資料？每一筆資料包含哪些欄位？\n",
    "2. 取出每一筆資料的「標題」、「貼文時間」、「留言人數」、「按讚人數」\n",
    "3. 計算熱門/非熱門文章的「平均留言人數」與「平均按讚人數」"
   ]
  },
  {
   "cell_type": "code",
   "execution_count": 56,
   "metadata": {},
   "outputs": [
    {
     "name": "stdout",
     "output_type": "stream",
     "text": [
      "這個API一次回傳 30 筆資料\n",
      "欄位：\n",
      "1 id\n",
      "2 title\n",
      "3 excerpt\n",
      "4 anonymousSchool\n",
      "5 anonymousDepartment\n",
      "6 pinned\n",
      "7 forumId\n",
      "8 replyId\n",
      "9 createdAt\n",
      "10 updatedAt\n",
      "11 commentCount\n",
      "12 likeCount\n",
      "13 withNickname\n",
      "14 tags\n",
      "15 topics\n",
      "16 meta\n",
      "17 forumName\n",
      "18 forumAlias\n",
      "19 gender\n",
      "20 school\n",
      "21 replyTitle\n",
      "22 mediaMeta\n",
      "23 reactions\n",
      "24 hidden\n",
      "25 customStyle\n",
      "26 isSuspiciousAccount\n",
      "27 layout\n",
      "28 withImages\n",
      "29 withVideos\n",
      "30 media\n",
      "31 reportReasonText\n",
      "32 postAvatar\n"
     ]
    }
   ],
   "source": [
    "# 1. 這個 API 一次會回傳幾筆資料？每一筆資料包含哪些欄位？\n",
    "\n",
    "import requests\n",
    "r=requests.get('https://www.dcard.tw/_api/forums/pet/posts?popular=true')\n",
    "response=r.text\n",
    "\n",
    "import json\n",
    "data=json.loads(response)\n",
    "#response\n",
    "cont=1\n",
    "print(\"這個API一次回傳\",len(data),\"筆資料\")\n",
    "print(\"欄位：\")\n",
    "for d in data:\n",
    "    for t in d:\n",
    "        print(cont,t) \n",
    "        cont=cont+1\n",
    "    break\n",
    "       "
   ]
  },
  {
   "cell_type": "code",
   "execution_count": 55,
   "metadata": {},
   "outputs": [
    {
     "name": "stdout",
     "output_type": "stream",
     "text": [
      "標題: 請大家不要隨便養兔兔！ 貼文時間: 2020-03-15T08:50:39.336Z 留言人數: 74 按讚人數: 856\n",
      "標題: 我爸的兄弟 貼文時間: 2020-03-15T07:15:09.251Z 留言人數: 9 按讚人數: 742\n",
      "標題: 狗得了環狀病毒（文長） 貼文時間: 2020-03-15T11:50:11.895Z 留言人數: 22 按讚人數: 462\n",
      "標題: 啊～我是貓啦 貼文時間: 2020-03-15T10:10:55.945Z 留言人數: 8 按讚人數: 366\n",
      "標題: 天使 貼文時間: 2020-03-15T09:42:18.812Z 留言人數: 6 按讚人數: 136\n",
      "標題: 我家貓小弟趁貓大哥睡著時試圖謀殺他..😭（多圖） 貼文時間: 2020-03-15T02:11:53.943Z 留言人數: 10 按讚人數: 99\n",
      "標題: 購買跟領養 貼文時間: 2020-03-15T07:37:42.641Z 留言人數: 4 按讚人數: 65\n",
      "標題: 我以為我養的是法鬥 原來是隻豬啊 貼文時間: 2020-03-16T02:54:35.422Z 留言人數: 1 按讚人數: 37\n",
      "標題: 感情好到讓人羨慕 貼文時間: 2020-03-15T10:05:05.271Z 留言人數: 3 按讚人數: 37\n",
      "標題: 沒錢別養寵物 貼文時間: 2020-03-15T09:05:46.214Z 留言人數: 6 按讚人數: 26\n",
      "標題: 失去貓咪後失去重心 貼文時間: 2020-03-15T03:16:12.236Z 留言人數: 5 按讚人數: 24\n",
      "標題: 我家的特大號壁虎 貼文時間: 2020-03-16T05:38:57.393Z 留言人數: 2 按讚人數: 19\n",
      "標題: 守宮其實很可愛！ 貼文時間: 2020-03-15T18:14:56.035Z 留言人數: 13 按讚人數: 19\n",
      "標題: （圖多）最近從朋友那領養了一隻貓，正式晉升為貓奴才了！每天都會被他笑死 貼文時間: 2020-03-15T14:44:32.318Z 留言人數: 6 按讚人數: 18\n",
      "標題: 犬種介紹特輯13 ~ 小姑娘 可卡犬 貼文時間: 2020-03-15T11:41:11.811Z 留言人數: 1 按讚人數: 16\n",
      "標題: 我是不是養錯龜了..... 貼文時間: 2020-03-15T10:07:07.784Z 留言人數: 5 按讚人數: 16\n",
      "標題: 很憤怒的領養經驗😡 貼文時間: 2020-03-16T05:21:26.083Z 留言人數: 3 按讚人數: 14\n",
      "標題: 我叫阿秋 真的很秋 貼文時間: 2020-03-15T13:31:25.028Z 留言人數: 3 按讚人數: 14\n",
      "標題: 還有人養魚當寵物嗎 貼文時間: 2020-03-15T11:19:08.961Z 留言人數: 5 按讚人數: 12\n",
      "標題: 舌頭給我收斂一點！ 貼文時間: 2020-03-16T07:34:21.277Z 留言人數: 1 按讚人數: 11\n",
      "標題: 外拍初體驗 貼文時間: 2020-03-15T14:01:49.113Z 留言人數: 0 按讚人數: 11\n",
      "標題: 蒐集貓咪の各種睡姿 貼文時間: 2020-03-15T09:28:45.855Z 留言人數: 3 按讚人數: 11\n",
      "標題: 新成員 (圖多） 貼文時間: 2020-03-16T08:55:32.357Z 留言人數: 5 按讚人數: 9\n",
      "標題: 挑軟柿子是吧？ 貼文時間: 2020-03-15T05:48:35.589Z 留言人數: 0 按讚人數: 9\n",
      "標題: 通緝金門大學ㄉ女同學的狗 貼文時間: 2020-03-16T05:49:39.070Z 留言人數: 4 按讚人數: 8\n",
      "標題: 彰化尋狗！彰師大附近！拜託大家幫幫忙了！ 貼文時間: 2020-03-16T04:32:38.699Z 留言人數: 2 按讚人數: 8\n",
      "標題: 只有我覺得這樣很危險嗎⋯⋯ 貼文時間: 2020-03-15T16:02:59.175Z 留言人數: 3 按讚人數: 8\n",
      "標題: 協尋鸚鵡 貼文時間: 2020-03-15T06:45:50.431Z 留言人數: 0 按讚人數: 8\n",
      "標題: 咪咪自己開水喝 貼文時間: 2020-03-16T02:22:29.424Z 留言人數: 0 按讚人數: 7\n",
      "標題: 轉：3/11在台三線的重機騎士麻煩進來看看 貼文時間: 2020-03-15T05:47:43.117Z 留言人數: 0 按讚人數: 7\n"
     ]
    }
   ],
   "source": [
    "# 2. 取出每一筆資料的「標題」、「貼文時間」、「留言人數」、「按讚人數」\n",
    "\n",
    "for d in data:\n",
    "    print(\"標題:\",d['title'],\"貼文時間:\",d['createdAt'],\"留言人數:\",d['commentCount'],\"按讚人數:\",d['likeCount'])\n"
   ]
  },
  {
   "cell_type": "code",
   "execution_count": 82,
   "metadata": {},
   "outputs": [
    {
     "name": "stdout",
     "output_type": "stream",
     "text": [
      "熱門的文章數\n",
      "平均留言人數: 7.533333333333333\n",
      "平均按讚人數: 110.1\n",
      "\n",
      "非熱門的文章數\n",
      "平均留言人數: 1.7333333333333334\n",
      "平均按讚人數: 5.4\n"
     ]
    }
   ],
   "source": [
    "# 3. 計算熱門/非熱門文章的「平均留言人數」與「平均按讚人數」\n",
    "\n",
    "\n",
    "popular=requests.get('https://www.dcard.tw/_api/forums/pet/posts?popular=true')\n",
    "unpopular=requests.get('https://www.dcard.tw/_api/forums/pet/posts?popular=false')\n",
    "responseP=popular.text\n",
    "responseUP=unpopular.text\n",
    "\n",
    "import json\n",
    "\n",
    "dataP=json.loads(responseP)\n",
    "dataUP=json.loads(responseUP)\n",
    "\n",
    "\n",
    "comCnt=0\n",
    "likeCnt=0\n",
    "print(\"熱門的文章數\")\n",
    "for d in dataP:\n",
    "    comCnt=comCnt+d['commentCount']\n",
    "    likeCnt=likeCnt+d['likeCount'] \n",
    "    \n",
    "print(\"平均留言人數:\",comCnt/len(dataP))\n",
    "print(\"平均按讚人數:\",likeCnt/len(dataP))\n",
    "print(\"\")\n",
    "comCnt=0\n",
    "likeCnt=0\n",
    "print(\"非熱門的文章數\")\n",
    "for d in dataUP:\n",
    "    comCnt=comCnt+d['commentCount']\n",
    "    likeCnt=likeCnt+d['likeCount'] \n",
    "print(\"平均留言人數:\",comCnt/len(dataUP))\n",
    "print(\"平均按讚人數:\",likeCnt/len(dataUP))\n"
   ]
  },
  {
   "cell_type": "code",
   "execution_count": null,
   "metadata": {},
   "outputs": [],
   "source": []
  },
  {
   "cell_type": "code",
   "execution_count": null,
   "metadata": {},
   "outputs": [],
   "source": []
  }
 ],
 "metadata": {
  "kernelspec": {
   "display_name": "Python 3",
   "language": "python",
   "name": "python3"
  },
  "language_info": {
   "codemirror_mode": {
    "name": "ipython",
    "version": 3
   },
   "file_extension": ".py",
   "mimetype": "text/x-python",
   "name": "python",
   "nbconvert_exporter": "python",
   "pygments_lexer": "ipython3",
   "version": "3.7.4"
  }
 },
 "nbformat": 4,
 "nbformat_minor": 2
}

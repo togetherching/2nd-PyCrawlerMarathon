{
 "cells": [
  {
   "cell_type": "markdown",
   "metadata": {},
   "source": [
    "# Python 下載XML檔案與解析\n",
    "\n",
    "\n",
    "* 了解 xml 檔案格式與內容\n",
    "* 能夠利用套件存取 xml 格式的檔案\n"
   ]
  },
  {
   "cell_type": "markdown",
   "metadata": {},
   "source": [
    "## 作業目標\n",
    "\n",
    "* 比較一下範例檔案中的「File I/O」與「xmltodict」讀出來的內容有什麼差異\n",
    "\n",
    "* 根據範例檔案的結果：\n",
    "    1. 請問高雄市有多少地區有溫度資料？\n",
    "    2. 請取出每一個地區所記錄的第一個時間點跟溫度\n",
    "    3. 請取出第一個地區所記錄的每一個時間點跟溫度"
   ]
  },
  {
   "cell_type": "markdown",
   "metadata": {},
   "source": [
    "### 比較一下範例檔案中的「File I/O」與「xmltodict」讀出來的內容有什麼差異\n"
   ]
  },
  {
   "cell_type": "markdown",
   "metadata": {},
   "source": [
    "File I/O 讀出來的檔案結果是將檔案內的所有資料讀成一個字串或一個列表\n",
    "xmltodict讀出來的檔案則可以只擷取所需的部分"
   ]
  },
  {
   "cell_type": "markdown",
   "metadata": {},
   "source": [
    "### 根據範例檔案的結果：\n",
    "\n",
    "1. 請問高雄市有多少地區有溫度資料？\n",
    "2. 請取出每一個地區所記錄的第一個時間點跟溫度\n",
    "3. 請取出第一個地區所記錄的每一個時間點跟溫度"
   ]
  },
  {
   "cell_type": "code",
   "execution_count": 83,
   "metadata": {},
   "outputs": [
    {
     "name": "stdout",
     "output_type": "stream",
     "text": [
      "22\n"
     ]
    }
   ],
   "source": [
    "# 下載檔案\n",
    "import urllib.request\n",
    "import zipfile\n",
    "\n",
    "res = \"http://opendata.cwb.gov.tw/govdownload?dataid=F-D0047-093&authorizationkey=rdec-key-123-45678-011121314\"\n",
    "urllib.request.urlretrieve(res, \"./data/example.zip\")\n",
    "f = zipfile.ZipFile('./data/example.zip')\n",
    "f.extractall('./data')\n",
    "\n",
    "\n",
    "import os, sys\n",
    "\n",
    "# 打开文件\n",
    "dirs = os.listdir( './data' )\n",
    "\n",
    "# 输出所有文件和文件夹\n",
    "#for file in dirs:\n",
    "#    print(file)\n",
    "\n",
    "# 解析檔案內容\n",
    "import xmltodict\n",
    "with open('./data/TAIWAN_72hr_CH.xml',encoding=\"utf-8\")as fd:\n",
    "\n",
    "    d = dict(xmltodict.parse(fd.read()))\n",
    "\n",
    "    \n",
    "# 1. 請問高雄市有多少地區有溫度資料？\n",
    "locations = d['cwbopendata']['dataset']['locations']['location']\n",
    "print(len(locations))\n",
    "\n",
    "\n"
   ]
  },
  {
   "cell_type": "code",
   "execution_count": 90,
   "metadata": {},
   "outputs": [
    {
     "name": "stdout",
     "output_type": "stream",
     "text": [
      "地點： 連江縣\n",
      "時間: 2020-03-10T18:00:00+08:00\n",
      "溫度: 14 攝氏度\n",
      "\n",
      "地點： 金門縣\n",
      "時間: 2020-03-10T18:00:00+08:00\n",
      "溫度: 18 攝氏度\n",
      "\n",
      "地點： 宜蘭縣\n",
      "時間: 2020-03-10T18:00:00+08:00\n",
      "溫度: 17 攝氏度\n",
      "\n",
      "地點： 新竹縣\n",
      "時間: 2020-03-10T18:00:00+08:00\n",
      "溫度: 17 攝氏度\n",
      "\n",
      "地點： 苗栗縣\n",
      "時間: 2020-03-10T18:00:00+08:00\n",
      "溫度: 16 攝氏度\n",
      "\n",
      "地點： 彰化縣\n",
      "時間: 2020-03-10T18:00:00+08:00\n",
      "溫度: 19 攝氏度\n",
      "\n",
      "地點： 南投縣\n",
      "時間: 2020-03-10T18:00:00+08:00\n",
      "溫度: 20 攝氏度\n",
      "\n",
      "地點： 雲林縣\n",
      "時間: 2020-03-10T18:00:00+08:00\n",
      "溫度: 20 攝氏度\n",
      "\n",
      "地點： 嘉義縣\n",
      "時間: 2020-03-10T18:00:00+08:00\n",
      "溫度: 21 攝氏度\n",
      "\n",
      "地點： 屏東縣\n",
      "時間: 2020-03-10T18:00:00+08:00\n",
      "溫度: 24 攝氏度\n",
      "\n",
      "地點： 臺東縣\n",
      "時間: 2020-03-10T18:00:00+08:00\n",
      "溫度: 21 攝氏度\n",
      "\n",
      "地點： 花蓮縣\n",
      "時間: 2020-03-10T18:00:00+08:00\n",
      "溫度: 19 攝氏度\n",
      "\n",
      "地點： 澎湖縣\n",
      "時間: 2020-03-10T18:00:00+08:00\n",
      "溫度: 20 攝氏度\n",
      "\n",
      "地點： 基隆市\n",
      "時間: 2020-03-10T18:00:00+08:00\n",
      "溫度: 16 攝氏度\n",
      "\n",
      "地點： 新竹市\n",
      "時間: 2020-03-10T18:00:00+08:00\n",
      "溫度: 17 攝氏度\n",
      "\n",
      "地點： 嘉義市\n",
      "時間: 2020-03-10T18:00:00+08:00\n",
      "溫度: 21 攝氏度\n",
      "\n",
      "地點： 臺北市\n",
      "時間: 2020-03-10T18:00:00+08:00\n",
      "溫度: 16 攝氏度\n",
      "\n",
      "地點： 高雄市\n",
      "時間: 2020-03-10T18:00:00+08:00\n",
      "溫度: 24 攝氏度\n",
      "\n",
      "地點： 新北市\n",
      "時間: 2020-03-10T18:00:00+08:00\n",
      "溫度: 16 攝氏度\n",
      "\n",
      "地點： 臺中市\n",
      "時間: 2020-03-10T18:00:00+08:00\n",
      "溫度: 20 攝氏度\n",
      "\n",
      "地點： 臺南市\n",
      "時間: 2020-03-10T18:00:00+08:00\n",
      "溫度: 22 攝氏度\n",
      "\n",
      "地點： 桃園市\n",
      "時間: 2020-03-10T18:00:00+08:00\n",
      "溫度: 16 攝氏度\n",
      "\n"
     ]
    }
   ],
   "source": [
    "# 2. 請取出每一個地區所記錄的第一個時間點跟溫度\n",
    "for location in locations:\n",
    "    print(\"地點：\",location['locationName']) #地區名稱\n",
    "    print(\"時間:\",location['weatherElement'][0]['time'][0]['dataTime'] )\n",
    "    print(\"溫度:\",location['weatherElement'][0]['time'][0]['elementValue']['value'],\"攝氏度\")\n",
    "    print(\"\")\n"
   ]
  },
  {
   "cell_type": "code",
   "execution_count": 89,
   "metadata": {},
   "outputs": [
    {
     "name": "stdout",
     "output_type": "stream",
     "text": [
      "連江縣\n",
      "時間： 2020-03-10T18:00:00+08:00\n",
      "溫度： 14 攝氏度\n",
      "時間： 2020-03-10T21:00:00+08:00\n",
      "溫度： 14 攝氏度\n",
      "時間： 2020-03-11T00:00:00+08:00\n",
      "溫度： 13 攝氏度\n",
      "時間： 2020-03-11T03:00:00+08:00\n",
      "溫度： 13 攝氏度\n",
      "時間： 2020-03-11T06:00:00+08:00\n",
      "溫度： 13 攝氏度\n",
      "時間： 2020-03-11T09:00:00+08:00\n",
      "溫度： 14 攝氏度\n",
      "時間： 2020-03-11T12:00:00+08:00\n",
      "溫度： 16 攝氏度\n",
      "時間： 2020-03-11T15:00:00+08:00\n",
      "溫度： 15 攝氏度\n",
      "時間： 2020-03-11T18:00:00+08:00\n",
      "溫度： 14 攝氏度\n",
      "時間： 2020-03-11T21:00:00+08:00\n",
      "溫度： 13 攝氏度\n",
      "時間： 2020-03-12T00:00:00+08:00\n",
      "溫度： 13 攝氏度\n",
      "時間： 2020-03-12T03:00:00+08:00\n",
      "溫度： 13 攝氏度\n",
      "時間： 2020-03-12T06:00:00+08:00\n",
      "溫度： 12 攝氏度\n",
      "時間： 2020-03-12T09:00:00+08:00\n",
      "溫度： 14 攝氏度\n",
      "時間： 2020-03-12T12:00:00+08:00\n",
      "溫度： 15 攝氏度\n",
      "時間： 2020-03-12T15:00:00+08:00\n",
      "溫度： 15 攝氏度\n",
      "時間： 2020-03-12T18:00:00+08:00\n",
      "溫度： 14 攝氏度\n",
      "時間： 2020-03-12T21:00:00+08:00\n",
      "溫度： 14 攝氏度\n",
      "時間： 2020-03-13T00:00:00+08:00\n",
      "溫度： 13 攝氏度\n",
      "時間： 2020-03-13T03:00:00+08:00\n",
      "溫度： 13 攝氏度\n",
      "時間： 2020-03-13T06:00:00+08:00\n",
      "溫度： 13 攝氏度\n",
      "時間： 2020-03-13T09:00:00+08:00\n",
      "溫度： 15 攝氏度\n",
      "時間： 2020-03-13T12:00:00+08:00\n",
      "溫度： 18 攝氏度\n",
      "時間： 2020-03-13T15:00:00+08:00\n",
      "溫度： 17 攝氏度\n"
     ]
    }
   ],
   "source": [
    "# 3. 請取出第一個地區所記錄的每一個時間點跟溫度\n",
    "\n",
    "location = locations[0] #排在locations第0位的location aka 第一個地區\n",
    "print(location['locationName'])\n",
    "for first in location['weatherElement'][0]['time']:\n",
    "    print(\"時間：\",first['dataTime'])\n",
    "    print(\"溫度：\",first['elementValue']['value'],\"攝氏度\")"
   ]
  },
  {
   "cell_type": "code",
   "execution_count": null,
   "metadata": {},
   "outputs": [],
   "source": []
  }
 ],
 "metadata": {
  "kernelspec": {
   "display_name": "Python 3",
   "language": "python",
   "name": "python3"
  },
  "language_info": {
   "codemirror_mode": {
    "name": "ipython",
    "version": 3
   },
   "file_extension": ".py",
   "mimetype": "text/x-python",
   "name": "python",
   "nbconvert_exporter": "python",
   "pygments_lexer": "ipython3",
   "version": "3.7.4"
  }
 },
 "nbformat": 4,
 "nbformat_minor": 2
}
